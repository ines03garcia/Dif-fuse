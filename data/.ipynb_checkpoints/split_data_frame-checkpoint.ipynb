{
 "cells": [
  {
   "cell_type": "code",
   "execution_count": 2,
   "id": "2051e1ee-8bcc-4d23-b57b-4111c9a70b38",
   "metadata": {},
   "outputs": [],
   "source": [
    "!source \"/home/csantiago/venvs/diffuse_env/bin/activate\""
   ]
  },
  {
   "cell_type": "code",
   "execution_count": null,
   "id": "cf87ec93-a42b-4a48-9544-0e052232a548",
   "metadata": {},
   "outputs": [],
   "source": [
    "import pandas as pd"
   ]
  },
  {
   "cell_type": "code",
   "execution_count": null,
   "id": "c0307c76-66d0-490e-acd8-46e2ab482b66",
   "metadata": {},
   "outputs": [],
   "source": [
    "df = pd.read_csv(\"grouped_df.csv\")\n",
    "df_train = df[df[\"split\"] == \"training\"]\n",
    "df_test = df[df[\"split\"] == \"test\"]\n",
    "\n",
    "df_train.to_csv(\"grouped_df_train.csv\", index = False)\n",
    "df_test.to_csv(\"grouped_df_test.csv\", index = False)"
   ]
  },
  {
   "cell_type": "code",
   "execution_count": null,
   "id": "7c1334a6-a979-46d7-a323-9ad77b920494",
   "metadata": {},
   "outputs": [],
   "source": []
  }
 ],
 "metadata": {
  "kernelspec": {
   "display_name": "Python 3 (ipykernel)",
   "language": "python",
   "name": "python3"
  },
  "language_info": {
   "codemirror_mode": {
    "name": "ipython",
    "version": 3
   },
   "file_extension": ".py",
   "mimetype": "text/x-python",
   "name": "python",
   "nbconvert_exporter": "python",
   "pygments_lexer": "ipython3",
   "version": "3.10.11"
  }
 },
 "nbformat": 4,
 "nbformat_minor": 5
}
