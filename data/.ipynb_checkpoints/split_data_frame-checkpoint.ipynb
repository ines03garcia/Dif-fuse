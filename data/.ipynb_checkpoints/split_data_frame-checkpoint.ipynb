{
 "cells": [
  {
   "cell_type": "code",
   "execution_count": 17,
   "id": "2051e1ee-8bcc-4d23-b57b-4111c9a70b38",
   "metadata": {},
   "outputs": [
    {
     "name": "stdout",
     "output_type": "stream",
     "text": [
      "Defaulting to user installation because normal site-packages is not writeable\n",
      "Requirement already satisfied: scikit-learn in /home/csantiago/.local/lib/python3.10/site-packages (1.6.1)\n",
      "Requirement already satisfied: threadpoolctl>=3.1.0 in /home/csantiago/.local/lib/python3.10/site-packages (from scikit-learn) (3.6.0)\n",
      "Requirement already satisfied: joblib>=1.2.0 in /home/csantiago/.local/lib/python3.10/site-packages (from scikit-learn) (1.4.2)\n",
      "Requirement already satisfied: numpy>=1.19.5 in /home/csantiago/.local/lib/python3.10/site-packages (from scikit-learn) (2.1.3)\n",
      "Requirement already satisfied: scipy>=1.6.0 in /home/csantiago/.local/lib/python3.10/site-packages (from scikit-learn) (1.15.2)\n"
     ]
    }
   ],
   "source": [
    "!source \"/home/csantiago/venvs/diffuse_env/bin/activate\"\n",
    "!pip install scikit-learn"
   ]
  },
  {
   "cell_type": "code",
   "execution_count": 18,
   "id": "cf87ec93-a42b-4a48-9544-0e052232a548",
   "metadata": {},
   "outputs": [],
   "source": [
    "import pandas as pd\n",
    "from sklearn.model_selection import train_test_split"
   ]
  },
  {
   "cell_type": "code",
   "execution_count": 19,
   "id": "c0307c76-66d0-490e-acd8-46e2ab482b66",
   "metadata": {},
   "outputs": [],
   "source": [
    "df = pd.read_csv(\"grouped_df.csv\")\n",
    "df_train = df[df[\"split\"] == \"training\"]\n",
    "df_test = df[df[\"split\"] == \"test\"]\n",
    "\n",
    "df_test.to_csv(\"grouped_df_test.csv\", index = False)"
   ]
  },
  {
   "cell_type": "code",
   "execution_count": 20,
   "id": "132f79c7-b4b9-4266-b625-0d6ed08c2d01",
   "metadata": {},
   "outputs": [],
   "source": [
    "df_train, df_val = train_test_split(df_train, test_size=0.20, random_state=42)\n",
    "\n",
    "df_train.to_csv(\"grouped_df_train.csv\", index = False)\n",
    "df_val.to_csv(\"grouped_df_val.csv\", index = False)"
   ]
  },
  {
   "cell_type": "code",
   "execution_count": null,
   "id": "927f1fdf-5db9-47f9-820d-22b77caf9bbd",
   "metadata": {},
   "outputs": [],
   "source": []
  }
 ],
 "metadata": {
  "kernelspec": {
   "display_name": "Python 3 (ipykernel)",
   "language": "python",
   "name": "python3"
  },
  "language_info": {
   "codemirror_mode": {
    "name": "ipython",
    "version": 3
   },
   "file_extension": ".py",
   "mimetype": "text/x-python",
   "name": "python",
   "nbconvert_exporter": "python",
   "pygments_lexer": "ipython3",
   "version": "3.10.11"
  }
 },
 "nbformat": 4,
 "nbformat_minor": 5
}
